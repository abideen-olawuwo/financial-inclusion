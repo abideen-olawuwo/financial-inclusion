{
 "cells": [
  {
   "cell_type": "code",
   "execution_count": 1,
   "id": "c6385c5d",
   "metadata": {},
   "outputs": [],
   "source": [
    "# Regular EDA and plotting libraries\n",
    "import numpy as np \n",
    "import pandas as pd \n",
    "import matplotlib.pyplot as plt\n",
    "import seaborn as sns "
   ]
  },
  {
   "cell_type": "code",
   "execution_count": 2,
   "id": "b46af143",
   "metadata": {},
   "outputs": [
    {
     "data": {
      "text/plain": [
       "(23524, 13)"
      ]
     },
     "execution_count": 2,
     "metadata": {},
     "output_type": "execute_result"
    }
   ],
   "source": [
    "df_train = pd.read_csv('./data/Train.csv')\n",
    "df_train.shape"
   ]
  },
  {
   "cell_type": "code",
   "execution_count": 3,
   "id": "ef33be75",
   "metadata": {},
   "outputs": [
    {
     "data": {
      "text/html": [
       "<div>\n",
       "<style scoped>\n",
       "    .dataframe tbody tr th:only-of-type {\n",
       "        vertical-align: middle;\n",
       "    }\n",
       "\n",
       "    .dataframe tbody tr th {\n",
       "        vertical-align: top;\n",
       "    }\n",
       "\n",
       "    .dataframe thead th {\n",
       "        text-align: right;\n",
       "    }\n",
       "</style>\n",
       "<table border=\"1\" class=\"dataframe\">\n",
       "  <thead>\n",
       "    <tr style=\"text-align: right;\">\n",
       "      <th></th>\n",
       "      <th>country</th>\n",
       "      <th>year</th>\n",
       "      <th>uniqueid</th>\n",
       "      <th>bank_account</th>\n",
       "      <th>location_type</th>\n",
       "      <th>cellphone_access</th>\n",
       "      <th>household_size</th>\n",
       "      <th>age_of_respondent</th>\n",
       "      <th>gender_of_respondent</th>\n",
       "      <th>relationship_with_head</th>\n",
       "      <th>marital_status</th>\n",
       "      <th>education_level</th>\n",
       "      <th>job_type</th>\n",
       "    </tr>\n",
       "  </thead>\n",
       "  <tbody>\n",
       "    <tr>\n",
       "      <th>0</th>\n",
       "      <td>Kenya</td>\n",
       "      <td>2018</td>\n",
       "      <td>uniqueid_1</td>\n",
       "      <td>Yes</td>\n",
       "      <td>Rural</td>\n",
       "      <td>Yes</td>\n",
       "      <td>3</td>\n",
       "      <td>24</td>\n",
       "      <td>Female</td>\n",
       "      <td>Spouse</td>\n",
       "      <td>Married/Living together</td>\n",
       "      <td>Secondary education</td>\n",
       "      <td>Self employed</td>\n",
       "    </tr>\n",
       "    <tr>\n",
       "      <th>1</th>\n",
       "      <td>Kenya</td>\n",
       "      <td>2018</td>\n",
       "      <td>uniqueid_2</td>\n",
       "      <td>No</td>\n",
       "      <td>Rural</td>\n",
       "      <td>No</td>\n",
       "      <td>5</td>\n",
       "      <td>70</td>\n",
       "      <td>Female</td>\n",
       "      <td>Head of Household</td>\n",
       "      <td>Widowed</td>\n",
       "      <td>No formal education</td>\n",
       "      <td>Government Dependent</td>\n",
       "    </tr>\n",
       "    <tr>\n",
       "      <th>2</th>\n",
       "      <td>Kenya</td>\n",
       "      <td>2018</td>\n",
       "      <td>uniqueid_3</td>\n",
       "      <td>Yes</td>\n",
       "      <td>Urban</td>\n",
       "      <td>Yes</td>\n",
       "      <td>5</td>\n",
       "      <td>26</td>\n",
       "      <td>Male</td>\n",
       "      <td>Other relative</td>\n",
       "      <td>Single/Never Married</td>\n",
       "      <td>Vocational/Specialised training</td>\n",
       "      <td>Self employed</td>\n",
       "    </tr>\n",
       "    <tr>\n",
       "      <th>3</th>\n",
       "      <td>Kenya</td>\n",
       "      <td>2018</td>\n",
       "      <td>uniqueid_4</td>\n",
       "      <td>No</td>\n",
       "      <td>Rural</td>\n",
       "      <td>Yes</td>\n",
       "      <td>5</td>\n",
       "      <td>34</td>\n",
       "      <td>Female</td>\n",
       "      <td>Head of Household</td>\n",
       "      <td>Married/Living together</td>\n",
       "      <td>Primary education</td>\n",
       "      <td>Formally employed Private</td>\n",
       "    </tr>\n",
       "    <tr>\n",
       "      <th>4</th>\n",
       "      <td>Kenya</td>\n",
       "      <td>2018</td>\n",
       "      <td>uniqueid_5</td>\n",
       "      <td>No</td>\n",
       "      <td>Urban</td>\n",
       "      <td>No</td>\n",
       "      <td>8</td>\n",
       "      <td>26</td>\n",
       "      <td>Male</td>\n",
       "      <td>Child</td>\n",
       "      <td>Single/Never Married</td>\n",
       "      <td>Primary education</td>\n",
       "      <td>Informally employed</td>\n",
       "    </tr>\n",
       "  </tbody>\n",
       "</table>\n",
       "</div>"
      ],
      "text/plain": [
       "  country  year    uniqueid bank_account location_type cellphone_access  \\\n",
       "0   Kenya  2018  uniqueid_1          Yes         Rural              Yes   \n",
       "1   Kenya  2018  uniqueid_2           No         Rural               No   \n",
       "2   Kenya  2018  uniqueid_3          Yes         Urban              Yes   \n",
       "3   Kenya  2018  uniqueid_4           No         Rural              Yes   \n",
       "4   Kenya  2018  uniqueid_5           No         Urban               No   \n",
       "\n",
       "   household_size  age_of_respondent gender_of_respondent  \\\n",
       "0               3                 24               Female   \n",
       "1               5                 70               Female   \n",
       "2               5                 26                 Male   \n",
       "3               5                 34               Female   \n",
       "4               8                 26                 Male   \n",
       "\n",
       "  relationship_with_head           marital_status  \\\n",
       "0                 Spouse  Married/Living together   \n",
       "1      Head of Household                  Widowed   \n",
       "2         Other relative     Single/Never Married   \n",
       "3      Head of Household  Married/Living together   \n",
       "4                  Child     Single/Never Married   \n",
       "\n",
       "                   education_level                   job_type  \n",
       "0              Secondary education              Self employed  \n",
       "1              No formal education       Government Dependent  \n",
       "2  Vocational/Specialised training              Self employed  \n",
       "3                Primary education  Formally employed Private  \n",
       "4                Primary education        Informally employed  "
      ]
     },
     "execution_count": 3,
     "metadata": {},
     "output_type": "execute_result"
    }
   ],
   "source": [
    "df_train.head()"
   ]
  },
  {
   "cell_type": "code",
   "execution_count": 4,
   "id": "05848e1c",
   "metadata": {},
   "outputs": [
    {
     "data": {
      "text/plain": [
       "Index(['country', 'year', 'uniqueid', 'bank_account', 'location_type',\n",
       "       'cellphone_access', 'household_size', 'age_of_respondent',\n",
       "       'gender_of_respondent', 'relationship_with_head', 'marital_status',\n",
       "       'education_level', 'job_type'],\n",
       "      dtype='object')"
      ]
     },
     "execution_count": 4,
     "metadata": {},
     "output_type": "execute_result"
    }
   ],
   "source": [
    "df_train.columns"
   ]
  },
  {
   "cell_type": "code",
   "execution_count": 5,
   "id": "ef4aeaad",
   "metadata": {},
   "outputs": [],
   "source": [
    "df_train.drop(['uniqueid'],axis = 1,inplace = True)"
   ]
  },
  {
   "cell_type": "code",
   "execution_count": 6,
   "id": "8da47ac1",
   "metadata": {},
   "outputs": [
    {
     "name": "stdout",
     "output_type": "stream",
     "text": [
      "<class 'pandas.core.frame.DataFrame'>\n",
      "RangeIndex: 23524 entries, 0 to 23523\n",
      "Data columns (total 12 columns):\n",
      " #   Column                  Non-Null Count  Dtype \n",
      "---  ------                  --------------  ----- \n",
      " 0   country                 23524 non-null  object\n",
      " 1   year                    23524 non-null  int64 \n",
      " 2   bank_account            23524 non-null  object\n",
      " 3   location_type           23524 non-null  object\n",
      " 4   cellphone_access        23524 non-null  object\n",
      " 5   household_size          23524 non-null  int64 \n",
      " 6   age_of_respondent       23524 non-null  int64 \n",
      " 7   gender_of_respondent    23524 non-null  object\n",
      " 8   relationship_with_head  23524 non-null  object\n",
      " 9   marital_status          23524 non-null  object\n",
      " 10  education_level         23524 non-null  object\n",
      " 11  job_type                23524 non-null  object\n",
      "dtypes: int64(3), object(9)\n",
      "memory usage: 2.2+ MB\n"
     ]
    }
   ],
   "source": [
    "df_train.info()"
   ]
  },
  {
   "cell_type": "code",
   "execution_count": 7,
   "id": "eb545ec1",
   "metadata": {},
   "outputs": [
    {
     "data": {
      "text/plain": [
       "No     20212\n",
       "Yes     3312\n",
       "Name: bank_account, dtype: int64"
      ]
     },
     "execution_count": 7,
     "metadata": {},
     "output_type": "execute_result"
    }
   ],
   "source": [
    "df_train['bank_account'].value_counts()"
   ]
  },
  {
   "cell_type": "code",
   "execution_count": 8,
   "id": "f7f2cb5f",
   "metadata": {},
   "outputs": [],
   "source": [
    "from sklearn.preprocessing import LabelEncoder\n",
    "\n",
    "Lb = LabelEncoder()\n",
    "\n",
    "df_train['gender_of_respondent']  = Lb.fit_transform(df_train['gender_of_respondent'])\n",
    "df_train['relationship_with_head']  = Lb.fit_transform(df_train['relationship_with_head'])\n",
    "df_train['marital_status']  = Lb.fit_transform(df_train['marital_status'])\n",
    "df_train['education_level']  = Lb.fit_transform(df_train['education_level'])\n",
    "df_train['job_type']  = Lb.fit_transform(df_train['job_type'])\n",
    "df_train['country']  = Lb.fit_transform(df_train['country'])\n",
    "df_train['bank_account']  = Lb.fit_transform(df_train['bank_account'])\n",
    "df_train['cellphone_access']  = Lb.fit_transform(df_train['cellphone_access'])\n",
    "df_train['location_type']  = Lb.fit_transform(df_train['location_type'])"
   ]
  },
  {
   "cell_type": "code",
   "execution_count": 9,
   "id": "87cecfc7",
   "metadata": {},
   "outputs": [
    {
     "name": "stdout",
     "output_type": "stream",
     "text": [
      "<class 'pandas.core.frame.DataFrame'>\n",
      "RangeIndex: 23524 entries, 0 to 23523\n",
      "Data columns (total 12 columns):\n",
      " #   Column                  Non-Null Count  Dtype\n",
      "---  ------                  --------------  -----\n",
      " 0   country                 23524 non-null  int32\n",
      " 1   year                    23524 non-null  int64\n",
      " 2   bank_account            23524 non-null  int32\n",
      " 3   location_type           23524 non-null  int32\n",
      " 4   cellphone_access        23524 non-null  int32\n",
      " 5   household_size          23524 non-null  int64\n",
      " 6   age_of_respondent       23524 non-null  int64\n",
      " 7   gender_of_respondent    23524 non-null  int32\n",
      " 8   relationship_with_head  23524 non-null  int32\n",
      " 9   marital_status          23524 non-null  int32\n",
      " 10  education_level         23524 non-null  int32\n",
      " 11  job_type                23524 non-null  int32\n",
      "dtypes: int32(9), int64(3)\n",
      "memory usage: 1.3 MB\n"
     ]
    }
   ],
   "source": [
    "df_train.info()"
   ]
  },
  {
   "cell_type": "code",
   "execution_count": 10,
   "id": "0146d5b8",
   "metadata": {},
   "outputs": [
    {
     "data": {
      "text/html": [
       "<div>\n",
       "<style scoped>\n",
       "    .dataframe tbody tr th:only-of-type {\n",
       "        vertical-align: middle;\n",
       "    }\n",
       "\n",
       "    .dataframe tbody tr th {\n",
       "        vertical-align: top;\n",
       "    }\n",
       "\n",
       "    .dataframe thead th {\n",
       "        text-align: right;\n",
       "    }\n",
       "</style>\n",
       "<table border=\"1\" class=\"dataframe\">\n",
       "  <thead>\n",
       "    <tr style=\"text-align: right;\">\n",
       "      <th></th>\n",
       "      <th>country</th>\n",
       "      <th>year</th>\n",
       "      <th>bank_account</th>\n",
       "      <th>location_type</th>\n",
       "      <th>cellphone_access</th>\n",
       "      <th>household_size</th>\n",
       "      <th>age_of_respondent</th>\n",
       "      <th>gender_of_respondent</th>\n",
       "      <th>relationship_with_head</th>\n",
       "      <th>marital_status</th>\n",
       "      <th>education_level</th>\n",
       "      <th>job_type</th>\n",
       "    </tr>\n",
       "  </thead>\n",
       "  <tbody>\n",
       "    <tr>\n",
       "      <th>0</th>\n",
       "      <td>0</td>\n",
       "      <td>2018</td>\n",
       "      <td>1</td>\n",
       "      <td>0</td>\n",
       "      <td>1</td>\n",
       "      <td>3</td>\n",
       "      <td>24</td>\n",
       "      <td>0</td>\n",
       "      <td>5</td>\n",
       "      <td>2</td>\n",
       "      <td>3</td>\n",
       "      <td>9</td>\n",
       "    </tr>\n",
       "    <tr>\n",
       "      <th>1</th>\n",
       "      <td>0</td>\n",
       "      <td>2018</td>\n",
       "      <td>0</td>\n",
       "      <td>0</td>\n",
       "      <td>0</td>\n",
       "      <td>5</td>\n",
       "      <td>70</td>\n",
       "      <td>0</td>\n",
       "      <td>1</td>\n",
       "      <td>4</td>\n",
       "      <td>0</td>\n",
       "      <td>4</td>\n",
       "    </tr>\n",
       "    <tr>\n",
       "      <th>2</th>\n",
       "      <td>0</td>\n",
       "      <td>2018</td>\n",
       "      <td>1</td>\n",
       "      <td>1</td>\n",
       "      <td>1</td>\n",
       "      <td>5</td>\n",
       "      <td>26</td>\n",
       "      <td>1</td>\n",
       "      <td>3</td>\n",
       "      <td>3</td>\n",
       "      <td>5</td>\n",
       "      <td>9</td>\n",
       "    </tr>\n",
       "    <tr>\n",
       "      <th>3</th>\n",
       "      <td>0</td>\n",
       "      <td>2018</td>\n",
       "      <td>0</td>\n",
       "      <td>0</td>\n",
       "      <td>1</td>\n",
       "      <td>5</td>\n",
       "      <td>34</td>\n",
       "      <td>0</td>\n",
       "      <td>1</td>\n",
       "      <td>2</td>\n",
       "      <td>2</td>\n",
       "      <td>3</td>\n",
       "    </tr>\n",
       "    <tr>\n",
       "      <th>4</th>\n",
       "      <td>0</td>\n",
       "      <td>2018</td>\n",
       "      <td>0</td>\n",
       "      <td>1</td>\n",
       "      <td>0</td>\n",
       "      <td>8</td>\n",
       "      <td>26</td>\n",
       "      <td>1</td>\n",
       "      <td>0</td>\n",
       "      <td>3</td>\n",
       "      <td>2</td>\n",
       "      <td>5</td>\n",
       "    </tr>\n",
       "  </tbody>\n",
       "</table>\n",
       "</div>"
      ],
      "text/plain": [
       "   country  year  bank_account  location_type  cellphone_access  \\\n",
       "0        0  2018             1              0                 1   \n",
       "1        0  2018             0              0                 0   \n",
       "2        0  2018             1              1                 1   \n",
       "3        0  2018             0              0                 1   \n",
       "4        0  2018             0              1                 0   \n",
       "\n",
       "   household_size  age_of_respondent  gender_of_respondent  \\\n",
       "0               3                 24                     0   \n",
       "1               5                 70                     0   \n",
       "2               5                 26                     1   \n",
       "3               5                 34                     0   \n",
       "4               8                 26                     1   \n",
       "\n",
       "   relationship_with_head  marital_status  education_level  job_type  \n",
       "0                       5               2                3         9  \n",
       "1                       1               4                0         4  \n",
       "2                       3               3                5         9  \n",
       "3                       1               2                2         3  \n",
       "4                       0               3                2         5  "
      ]
     },
     "execution_count": 10,
     "metadata": {},
     "output_type": "execute_result"
    }
   ],
   "source": [
    "df_train.head()"
   ]
  },
  {
   "cell_type": "code",
   "execution_count": 11,
   "id": "422ae175",
   "metadata": {},
   "outputs": [],
   "source": [
    "## Independent And dependent features\n",
    "X=df_train.drop('bank_account',axis=1)\n",
    "y=df_train['bank_account']"
   ]
  },
  {
   "cell_type": "code",
   "execution_count": 12,
   "id": "e9e5a997",
   "metadata": {},
   "outputs": [
    {
     "data": {
      "text/html": [
       "<div>\n",
       "<style scoped>\n",
       "    .dataframe tbody tr th:only-of-type {\n",
       "        vertical-align: middle;\n",
       "    }\n",
       "\n",
       "    .dataframe tbody tr th {\n",
       "        vertical-align: top;\n",
       "    }\n",
       "\n",
       "    .dataframe thead th {\n",
       "        text-align: right;\n",
       "    }\n",
       "</style>\n",
       "<table border=\"1\" class=\"dataframe\">\n",
       "  <thead>\n",
       "    <tr style=\"text-align: right;\">\n",
       "      <th></th>\n",
       "      <th>country</th>\n",
       "      <th>year</th>\n",
       "      <th>location_type</th>\n",
       "      <th>cellphone_access</th>\n",
       "      <th>household_size</th>\n",
       "      <th>age_of_respondent</th>\n",
       "      <th>gender_of_respondent</th>\n",
       "      <th>relationship_with_head</th>\n",
       "      <th>marital_status</th>\n",
       "      <th>education_level</th>\n",
       "      <th>job_type</th>\n",
       "    </tr>\n",
       "  </thead>\n",
       "  <tbody>\n",
       "    <tr>\n",
       "      <th>0</th>\n",
       "      <td>0</td>\n",
       "      <td>2018</td>\n",
       "      <td>0</td>\n",
       "      <td>1</td>\n",
       "      <td>3</td>\n",
       "      <td>24</td>\n",
       "      <td>0</td>\n",
       "      <td>5</td>\n",
       "      <td>2</td>\n",
       "      <td>3</td>\n",
       "      <td>9</td>\n",
       "    </tr>\n",
       "    <tr>\n",
       "      <th>1</th>\n",
       "      <td>0</td>\n",
       "      <td>2018</td>\n",
       "      <td>0</td>\n",
       "      <td>0</td>\n",
       "      <td>5</td>\n",
       "      <td>70</td>\n",
       "      <td>0</td>\n",
       "      <td>1</td>\n",
       "      <td>4</td>\n",
       "      <td>0</td>\n",
       "      <td>4</td>\n",
       "    </tr>\n",
       "    <tr>\n",
       "      <th>2</th>\n",
       "      <td>0</td>\n",
       "      <td>2018</td>\n",
       "      <td>1</td>\n",
       "      <td>1</td>\n",
       "      <td>5</td>\n",
       "      <td>26</td>\n",
       "      <td>1</td>\n",
       "      <td>3</td>\n",
       "      <td>3</td>\n",
       "      <td>5</td>\n",
       "      <td>9</td>\n",
       "    </tr>\n",
       "    <tr>\n",
       "      <th>3</th>\n",
       "      <td>0</td>\n",
       "      <td>2018</td>\n",
       "      <td>0</td>\n",
       "      <td>1</td>\n",
       "      <td>5</td>\n",
       "      <td>34</td>\n",
       "      <td>0</td>\n",
       "      <td>1</td>\n",
       "      <td>2</td>\n",
       "      <td>2</td>\n",
       "      <td>3</td>\n",
       "    </tr>\n",
       "    <tr>\n",
       "      <th>4</th>\n",
       "      <td>0</td>\n",
       "      <td>2018</td>\n",
       "      <td>1</td>\n",
       "      <td>0</td>\n",
       "      <td>8</td>\n",
       "      <td>26</td>\n",
       "      <td>1</td>\n",
       "      <td>0</td>\n",
       "      <td>3</td>\n",
       "      <td>2</td>\n",
       "      <td>5</td>\n",
       "    </tr>\n",
       "  </tbody>\n",
       "</table>\n",
       "</div>"
      ],
      "text/plain": [
       "   country  year  location_type  cellphone_access  household_size  \\\n",
       "0        0  2018              0                 1               3   \n",
       "1        0  2018              0                 0               5   \n",
       "2        0  2018              1                 1               5   \n",
       "3        0  2018              0                 1               5   \n",
       "4        0  2018              1                 0               8   \n",
       "\n",
       "   age_of_respondent  gender_of_respondent  relationship_with_head  \\\n",
       "0                 24                     0                       5   \n",
       "1                 70                     0                       1   \n",
       "2                 26                     1                       3   \n",
       "3                 34                     0                       1   \n",
       "4                 26                     1                       0   \n",
       "\n",
       "   marital_status  education_level  job_type  \n",
       "0               2                3         9  \n",
       "1               4                0         4  \n",
       "2               3                5         9  \n",
       "3               2                2         3  \n",
       "4               3                2         5  "
      ]
     },
     "execution_count": 12,
     "metadata": {},
     "output_type": "execute_result"
    }
   ],
   "source": [
    "X.head()"
   ]
  },
  {
   "cell_type": "code",
   "execution_count": 13,
   "id": "35d525d4",
   "metadata": {},
   "outputs": [
    {
     "data": {
      "text/plain": [
       "0    1\n",
       "1    0\n",
       "2    1\n",
       "3    0\n",
       "4    0\n",
       "Name: bank_account, dtype: int32"
      ]
     },
     "execution_count": 13,
     "metadata": {},
     "output_type": "execute_result"
    }
   ],
   "source": [
    "y.head()"
   ]
  },
  {
   "cell_type": "code",
   "execution_count": 14,
   "id": "e2d23f6e",
   "metadata": {},
   "outputs": [],
   "source": [
    "#Train Test Split\n",
    "from sklearn.model_selection import train_test_split\n",
    "X_train,X_val,y_train,y_val=train_test_split(X,y,test_size=0.20,random_state=42)"
   ]
  },
  {
   "cell_type": "code",
   "execution_count": 15,
   "id": "6cd60aed",
   "metadata": {},
   "outputs": [
    {
     "data": {
      "text/plain": [
       "((18819, 11), (4705, 11))"
      ]
     },
     "execution_count": 15,
     "metadata": {},
     "output_type": "execute_result"
    }
   ],
   "source": [
    "X_train.shape,X_val.shape"
   ]
  },
  {
   "cell_type": "code",
   "execution_count": 16,
   "id": "8477a0a2",
   "metadata": {},
   "outputs": [
    {
     "data": {
      "text/html": [
       "<div>\n",
       "<style scoped>\n",
       "    .dataframe tbody tr th:only-of-type {\n",
       "        vertical-align: middle;\n",
       "    }\n",
       "\n",
       "    .dataframe tbody tr th {\n",
       "        vertical-align: top;\n",
       "    }\n",
       "\n",
       "    .dataframe thead th {\n",
       "        text-align: right;\n",
       "    }\n",
       "</style>\n",
       "<table border=\"1\" class=\"dataframe\">\n",
       "  <thead>\n",
       "    <tr style=\"text-align: right;\">\n",
       "      <th></th>\n",
       "      <th>country</th>\n",
       "      <th>year</th>\n",
       "      <th>location_type</th>\n",
       "      <th>cellphone_access</th>\n",
       "      <th>household_size</th>\n",
       "      <th>age_of_respondent</th>\n",
       "      <th>gender_of_respondent</th>\n",
       "      <th>relationship_with_head</th>\n",
       "      <th>marital_status</th>\n",
       "      <th>education_level</th>\n",
       "      <th>job_type</th>\n",
       "    </tr>\n",
       "  </thead>\n",
       "  <tbody>\n",
       "    <tr>\n",
       "      <th>country</th>\n",
       "      <td>1.000000</td>\n",
       "      <td>-0.090362</td>\n",
       "      <td>0.148526</td>\n",
       "      <td>-0.144890</td>\n",
       "      <td>-0.119625</td>\n",
       "      <td>-0.058485</td>\n",
       "      <td>-0.025540</td>\n",
       "      <td>0.124791</td>\n",
       "      <td>0.006482</td>\n",
       "      <td>-0.052802</td>\n",
       "      <td>0.379768</td>\n",
       "    </tr>\n",
       "    <tr>\n",
       "      <th>year</th>\n",
       "      <td>-0.090362</td>\n",
       "      <td>1.000000</td>\n",
       "      <td>0.213894</td>\n",
       "      <td>-0.067837</td>\n",
       "      <td>-0.058403</td>\n",
       "      <td>-0.015672</td>\n",
       "      <td>0.001055</td>\n",
       "      <td>-0.002093</td>\n",
       "      <td>-0.022744</td>\n",
       "      <td>0.172291</td>\n",
       "      <td>0.266979</td>\n",
       "    </tr>\n",
       "    <tr>\n",
       "      <th>location_type</th>\n",
       "      <td>0.148526</td>\n",
       "      <td>0.213894</td>\n",
       "      <td>1.000000</td>\n",
       "      <td>-0.086728</td>\n",
       "      <td>-0.255472</td>\n",
       "      <td>-0.043145</td>\n",
       "      <td>0.010357</td>\n",
       "      <td>0.010866</td>\n",
       "      <td>0.080035</td>\n",
       "      <td>0.123657</td>\n",
       "      <td>0.365923</td>\n",
       "    </tr>\n",
       "    <tr>\n",
       "      <th>cellphone_access</th>\n",
       "      <td>-0.144890</td>\n",
       "      <td>-0.067837</td>\n",
       "      <td>-0.086728</td>\n",
       "      <td>1.000000</td>\n",
       "      <td>0.086899</td>\n",
       "      <td>-0.098837</td>\n",
       "      <td>0.098002</td>\n",
       "      <td>-0.045114</td>\n",
       "      <td>-0.091700</td>\n",
       "      <td>0.251872</td>\n",
       "      <td>-0.141891</td>\n",
       "    </tr>\n",
       "    <tr>\n",
       "      <th>household_size</th>\n",
       "      <td>-0.119625</td>\n",
       "      <td>-0.058403</td>\n",
       "      <td>-0.255472</td>\n",
       "      <td>0.086899</td>\n",
       "      <td>1.000000</td>\n",
       "      <td>-0.131199</td>\n",
       "      <td>0.013619</td>\n",
       "      <td>0.108793</td>\n",
       "      <td>-0.125729</td>\n",
       "      <td>0.003426</td>\n",
       "      <td>-0.151583</td>\n",
       "    </tr>\n",
       "    <tr>\n",
       "      <th>age_of_respondent</th>\n",
       "      <td>-0.058485</td>\n",
       "      <td>-0.015672</td>\n",
       "      <td>-0.043145</td>\n",
       "      <td>-0.098837</td>\n",
       "      <td>-0.131199</td>\n",
       "      <td>1.000000</td>\n",
       "      <td>0.014178</td>\n",
       "      <td>-0.149863</td>\n",
       "      <td>0.217102</td>\n",
       "      <td>-0.350423</td>\n",
       "      <td>-0.100683</td>\n",
       "    </tr>\n",
       "    <tr>\n",
       "      <th>gender_of_respondent</th>\n",
       "      <td>-0.025540</td>\n",
       "      <td>0.001055</td>\n",
       "      <td>0.010357</td>\n",
       "      <td>0.098002</td>\n",
       "      <td>0.013619</td>\n",
       "      <td>0.014178</td>\n",
       "      <td>1.000000</td>\n",
       "      <td>-0.478218</td>\n",
       "      <td>-0.099809</td>\n",
       "      <td>0.112620</td>\n",
       "      <td>-0.029111</td>\n",
       "    </tr>\n",
       "    <tr>\n",
       "      <th>relationship_with_head</th>\n",
       "      <td>0.124791</td>\n",
       "      <td>-0.002093</td>\n",
       "      <td>0.010866</td>\n",
       "      <td>-0.045114</td>\n",
       "      <td>0.108793</td>\n",
       "      <td>-0.149863</td>\n",
       "      <td>-0.478218</td>\n",
       "      <td>1.000000</td>\n",
       "      <td>-0.143807</td>\n",
       "      <td>-0.014626</td>\n",
       "      <td>0.038050</td>\n",
       "    </tr>\n",
       "    <tr>\n",
       "      <th>marital_status</th>\n",
       "      <td>0.006482</td>\n",
       "      <td>-0.022744</td>\n",
       "      <td>0.080035</td>\n",
       "      <td>-0.091700</td>\n",
       "      <td>-0.125729</td>\n",
       "      <td>0.217102</td>\n",
       "      <td>-0.099809</td>\n",
       "      <td>-0.143807</td>\n",
       "      <td>1.000000</td>\n",
       "      <td>-0.119656</td>\n",
       "      <td>0.054353</td>\n",
       "    </tr>\n",
       "    <tr>\n",
       "      <th>education_level</th>\n",
       "      <td>-0.052802</td>\n",
       "      <td>0.172291</td>\n",
       "      <td>0.123657</td>\n",
       "      <td>0.251872</td>\n",
       "      <td>0.003426</td>\n",
       "      <td>-0.350423</td>\n",
       "      <td>0.112620</td>\n",
       "      <td>-0.014626</td>\n",
       "      <td>-0.119656</td>\n",
       "      <td>1.000000</td>\n",
       "      <td>0.035787</td>\n",
       "    </tr>\n",
       "    <tr>\n",
       "      <th>job_type</th>\n",
       "      <td>0.379768</td>\n",
       "      <td>0.266979</td>\n",
       "      <td>0.365923</td>\n",
       "      <td>-0.141891</td>\n",
       "      <td>-0.151583</td>\n",
       "      <td>-0.100683</td>\n",
       "      <td>-0.029111</td>\n",
       "      <td>0.038050</td>\n",
       "      <td>0.054353</td>\n",
       "      <td>0.035787</td>\n",
       "      <td>1.000000</td>\n",
       "    </tr>\n",
       "  </tbody>\n",
       "</table>\n",
       "</div>"
      ],
      "text/plain": [
       "                         country      year  location_type  cellphone_access  \\\n",
       "country                 1.000000 -0.090362       0.148526         -0.144890   \n",
       "year                   -0.090362  1.000000       0.213894         -0.067837   \n",
       "location_type           0.148526  0.213894       1.000000         -0.086728   \n",
       "cellphone_access       -0.144890 -0.067837      -0.086728          1.000000   \n",
       "household_size         -0.119625 -0.058403      -0.255472          0.086899   \n",
       "age_of_respondent      -0.058485 -0.015672      -0.043145         -0.098837   \n",
       "gender_of_respondent   -0.025540  0.001055       0.010357          0.098002   \n",
       "relationship_with_head  0.124791 -0.002093       0.010866         -0.045114   \n",
       "marital_status          0.006482 -0.022744       0.080035         -0.091700   \n",
       "education_level        -0.052802  0.172291       0.123657          0.251872   \n",
       "job_type                0.379768  0.266979       0.365923         -0.141891   \n",
       "\n",
       "                        household_size  age_of_respondent  \\\n",
       "country                      -0.119625          -0.058485   \n",
       "year                         -0.058403          -0.015672   \n",
       "location_type                -0.255472          -0.043145   \n",
       "cellphone_access              0.086899          -0.098837   \n",
       "household_size                1.000000          -0.131199   \n",
       "age_of_respondent            -0.131199           1.000000   \n",
       "gender_of_respondent          0.013619           0.014178   \n",
       "relationship_with_head        0.108793          -0.149863   \n",
       "marital_status               -0.125729           0.217102   \n",
       "education_level               0.003426          -0.350423   \n",
       "job_type                     -0.151583          -0.100683   \n",
       "\n",
       "                        gender_of_respondent  relationship_with_head  \\\n",
       "country                            -0.025540                0.124791   \n",
       "year                                0.001055               -0.002093   \n",
       "location_type                       0.010357                0.010866   \n",
       "cellphone_access                    0.098002               -0.045114   \n",
       "household_size                      0.013619                0.108793   \n",
       "age_of_respondent                   0.014178               -0.149863   \n",
       "gender_of_respondent                1.000000               -0.478218   \n",
       "relationship_with_head             -0.478218                1.000000   \n",
       "marital_status                     -0.099809               -0.143807   \n",
       "education_level                     0.112620               -0.014626   \n",
       "job_type                           -0.029111                0.038050   \n",
       "\n",
       "                        marital_status  education_level  job_type  \n",
       "country                       0.006482        -0.052802  0.379768  \n",
       "year                         -0.022744         0.172291  0.266979  \n",
       "location_type                 0.080035         0.123657  0.365923  \n",
       "cellphone_access             -0.091700         0.251872 -0.141891  \n",
       "household_size               -0.125729         0.003426 -0.151583  \n",
       "age_of_respondent             0.217102        -0.350423 -0.100683  \n",
       "gender_of_respondent         -0.099809         0.112620 -0.029111  \n",
       "relationship_with_head       -0.143807        -0.014626  0.038050  \n",
       "marital_status                1.000000        -0.119656  0.054353  \n",
       "education_level              -0.119656         1.000000  0.035787  \n",
       "job_type                      0.054353         0.035787  1.000000  "
      ]
     },
     "execution_count": 16,
     "metadata": {},
     "output_type": "execute_result"
    }
   ],
   "source": [
    "## Feature Selection based on correlaltion\n",
    "X_train.corr()"
   ]
  },
  {
   "cell_type": "code",
   "execution_count": 17,
   "id": "8512ebdb",
   "metadata": {},
   "outputs": [
    {
     "data": {
      "text/plain": [
       "<Axes: >"
      ]
     },
     "execution_count": 17,
     "metadata": {},
     "output_type": "execute_result"
    },
    {
     "data": {
      "image/png": "[encoded data removed]",
      "text/plain": [
       "<Figure size 1200x1000 with 2 Axes>"
      ]
     },
     "metadata": {},
     "output_type": "display_data"
    }
   ],
   "source": [
    "## Check for multicollinearity\n",
    "plt.figure(figsize=(12,10))\n",
    "corr=X_train.corr()\n",
    "sns.heatmap(corr,annot=True)"
   ]
  },
  {
   "cell_type": "code",
   "execution_count": 18,
   "id": "d27ebd0c",
   "metadata": {},
   "outputs": [],
   "source": [
    "def correlation(dataset, threshold):\n",
    "    col_corr = set()\n",
    "    corr_matrix = dataset.corr()\n",
    "    for i in range(len(corr_matrix.columns)):\n",
    "        for j in range(i):\n",
    "            if abs(corr_matrix.iloc[i, j]) > threshold: \n",
    "                colname = corr_matrix.columns[i]\n",
    "                col_corr.add(colname)\n",
    "    return col_corr"
   ]
  },
  {
   "cell_type": "code",
   "execution_count": 19,
   "id": "892c2c73",
   "metadata": {},
   "outputs": [
    {
     "data": {
      "text/plain": [
       "set()"
      ]
     },
     "execution_count": 19,
     "metadata": {},
     "output_type": "execute_result"
    }
   ],
   "source": [
    "correlation(X_train,0.85)"
   ]
  },
  {
   "cell_type": "code",
   "execution_count": 20,
   "id": "86e6de92",
   "metadata": {},
   "outputs": [],
   "source": [
    "## threshold--Domain expertise\n",
    "corr_features=correlation(X_train,0.85)"
   ]
  },
  {
   "cell_type": "code",
   "execution_count": 21,
   "id": "cdaf1845",
   "metadata": {},
   "outputs": [
    {
     "data": {
      "text/plain": [
       "((18819, 11), (4705, 11))"
      ]
     },
     "execution_count": 21,
     "metadata": {},
     "output_type": "execute_result"
    }
   ],
   "source": [
    "## drop features when correlation is more than 0.85 \n",
    "X_train.drop(corr_features,axis=1,inplace=True)\n",
    "X_val.drop(corr_features,axis=1,inplace=True)\n",
    "X_train.shape,X_val.shape"
   ]
  },
  {
   "cell_type": "code",
   "execution_count": 22,
   "id": "dea94cc7",
   "metadata": {},
   "outputs": [],
   "source": [
    "from sklearn.preprocessing import StandardScaler\n",
    "scaler=StandardScaler()\n",
    "X_train_scaled=scaler.fit_transform(X_train)\n",
    "X_val_scaled=scaler.transform(X_val)"
   ]
  },
  {
   "cell_type": "code",
   "execution_count": 23,
   "id": "fd22fa3c",
   "metadata": {},
   "outputs": [
    {
     "data": {
      "text/plain": [
       "array([[-2.20110398e-01, -1.15240617e+00,  1.24582296e+00, ...,\n",
       "         6.14264141e-01,  3.53492004e-04, -1.42479319e-01],\n",
       "       [-2.20110398e-01, -1.15240617e+00, -8.02682266e-01, ...,\n",
       "        -3.90589551e-01,  8.31899246e-01, -1.42479319e-01],\n",
       "       [ 8.58040978e-01,  2.63704206e-02,  1.24582296e+00, ...,\n",
       "         6.14264141e-01,  3.53492004e-04, -1.42479319e-01],\n",
       "       ...,\n",
       "       [-1.29826177e+00,  1.20514701e+00, -8.02682266e-01, ...,\n",
       "         1.61911783e+00,  1.66344500e+00, -1.11455846e+00],\n",
       "       [-1.29826177e+00,  1.20514701e+00,  1.24582296e+00, ...,\n",
       "        -3.90589551e-01,  1.66344500e+00,  1.15362621e+00],\n",
       "       [ 8.58040978e-01,  2.63704206e-02,  1.24582296e+00, ...,\n",
       "         6.14264141e-01, -1.66273802e+00,  1.15362621e+00]])"
      ]
     },
     "execution_count": 23,
     "metadata": {},
     "output_type": "execute_result"
    }
   ],
   "source": [
    "X_train_scaled"
   ]
  },
  {
   "cell_type": "code",
   "execution_count": 24,
   "id": "4e9245ff",
   "metadata": {},
   "outputs": [
    {
     "name": "stderr",
     "output_type": "stream",
     "text": [
      "C:\\Users\\USER\\AppData\\Local\\Temp\\ipykernel_9060\\160744393.py:2: MatplotlibDeprecationWarning: Auto-removal of overlapping axes is deprecated since 3.6 and will be removed two minor releases later; explicitly call ax.remove() as needed.\n",
      "  plt.subplot(1, 2, 1)\n"
     ]
    },
    {
     "data": {
      "text/plain": [
       "Text(0.5, 1.0, 'X_train After Scaling')"
      ]
     },
     "execution_count": 24,
     "metadata": {},
     "output_type": "execute_result"
    },
    {
     "data": {
      "image/png": "[encoded data removed]",
      "text/plain": [
       "<Figure size 1500x500 with 2 Axes>"
      ]
     },
     "metadata": {},
     "output_type": "display_data"
    }
   ],
   "source": [
    "plt.subplots(figsize=(15, 5))\n",
    "plt.subplot(1, 2, 1)\n",
    "sns.boxplot(data=X_train)\n",
    "plt.title('X_train Before Scaling')\n",
    "plt.subplot(1, 2, 2)\n",
    "sns.boxplot(data=X_train_scaled)\n",
    "plt.title('X_train After Scaling')"
   ]
  },
  {
   "cell_type": "code",
   "execution_count": 25,
   "id": "8e1cdb06",
   "metadata": {},
   "outputs": [
    {
     "ename": "SyntaxError",
     "evalue": "invalid syntax (1696191459.py, line 12)",
     "output_type": "error",
     "traceback": [
      "\u001b[1;36m  Cell \u001b[1;32mIn[25], line 12\u001b[1;36m\u001b[0m\n\u001b[1;33m    ....\u001b[0m\n\u001b[1;37m        ^\u001b[0m\n\u001b[1;31mSyntaxError\u001b[0m\u001b[1;31m:\u001b[0m invalid syntax\n"
     ]
    }
   ],
   "source": [
    "from xgboost import XGBClassifier\n",
    "from sklearn.metrics import mean_absolute_error\n",
    "from sklearn.metrics import r2_score\n",
    "xg_model = XGBClassifier()\n",
    "xg_model.fit(X_train_scaled,y_train)\n",
    "y_pred=xg_model.predict(X_val_scaled)\n",
    "mae=mean_absolute_error(y_val,y_pred)\n",
    "score=r2_score(y_val,y_pred)\n",
    "print(\"Mean absolute error\", mae)\n",
    "print(\"R2 Score\", score)\n",
    "plt.scatter(y_val,y_pred)\n",
    "...."
   ]
  },
  {
   "cell_type": "code",
   "execution_count": null,
   "id": "1382936c",
   "metadata": {},
   "outputs": [],
   "source": []
  },
  {
   "cell_type": "code",
   "execution_count": null,
   "id": "110043bb",
   "metadata": {},
   "outputs": [],
   "source": [
    "df_test = pd.read_csv('./data/Test.csv')\n",
    "df_test.shape"
   ]
  },
  {
   "cell_type": "code",
   "execution_count": null,
   "id": "00288f74",
   "metadata": {},
   "outputs": [],
   "source": [
    "df_test.head()"
   ]
  },
  {
   "cell_type": "code",
   "execution_count": null,
   "id": "b93c9f0f",
   "metadata": {},
   "outputs": [],
   "source": [
    "df_test.info()"
   ]
  },
  {
   "cell_type": "code",
   "execution_count": null,
   "id": "8291e898",
   "metadata": {},
   "outputs": [],
   "source": [
    "from sklearn.preprocessing import LabelEncoder\n",
    "\n",
    "Lb = LabelEncoder()\n",
    "\n",
    "df_test['gender_of_respondent']  = Lb.fit_transform(df_test['gender_of_respondent'])\n",
    "df_test['relationship_with_head']  = Lb.fit_transform(df_test['relationship_with_head'])\n",
    "df_test['marital_status']  = Lb.fit_transform(df_test['marital_status'])\n",
    "df_test['education_level']  = Lb.fit_transform(df_test['education_level'])\n",
    "df_test['job_type']  = Lb.fit_transform(df_test['job_type'])\n",
    "df_test['country']  = Lb.fit_transform(df_test['country'])\n",
    "df_test['cellphone_access']  = Lb.fit_transform(df_test['cellphone_access'])\n",
    "df_test['location_type']  = Lb.fit_transform(df_test['location_type'])"
   ]
  },
  {
   "cell_type": "code",
   "execution_count": null,
   "id": "c1b9328e",
   "metadata": {},
   "outputs": [],
   "source": [
    "df_test.head()"
   ]
  },
  {
   "cell_type": "code",
   "execution_count": null,
   "id": "8b44b749",
   "metadata": {},
   "outputs": [],
   "source": [
    "## Feature Selection based on correlaltion\n",
    "df_test.corr()"
   ]
  },
  {
   "cell_type": "code",
   "execution_count": null,
   "id": "43ac40ea",
   "metadata": {},
   "outputs": [],
   "source": [
    "## Check for multicollinearity\n",
    "plt.figure(figsize=(12,10))\n",
    "corr=df_test.corr()\n",
    "sns.heatmap(corr,annot=True)"
   ]
  },
  {
   "cell_type": "code",
   "execution_count": null,
   "id": "6d7d0065",
   "metadata": {},
   "outputs": [],
   "source": [
    "def correlation(dataset, threshold):\n",
    "    col_corr = set()\n",
    "    corr_matrix = dataset.corr()\n",
    "    for i in range(len(corr_matrix.columns)):\n",
    "        for j in range(i):\n",
    "            if abs(corr_matrix.iloc[i, j]) > threshold: \n",
    "                colname = corr_matrix.columns[i]\n",
    "                col_corr.add(colname)\n",
    "    return col_corr"
   ]
  },
  {
   "cell_type": "code",
   "execution_count": null,
   "id": "37da1150",
   "metadata": {},
   "outputs": [],
   "source": [
    "correlation(df_test,0.85)"
   ]
  },
  {
   "cell_type": "code",
   "execution_count": null,
   "id": "dde20be5",
   "metadata": {},
   "outputs": [],
   "source": [
    "## threshold--Domain expertise\n",
    "corr_features=correlation(df_test,0.85)"
   ]
  },
  {
   "cell_type": "code",
   "execution_count": null,
   "id": "d0587a18",
   "metadata": {},
   "outputs": [],
   "source": [
    "## threshold--Domain expertise\n",
    "corr_features=correlation(df_test,0.85)"
   ]
  },
  {
   "cell_type": "code",
   "execution_count": null,
   "id": "39339eba",
   "metadata": {},
   "outputs": [],
   "source": [
    "## drop features when correlation is more than 0.85 \n",
    "df_test.drop(corr_features,axis=1,inplace=True)\n",
    "df_test.shape"
   ]
  },
  {
   "cell_type": "code",
   "execution_count": null,
   "id": "70a4173e",
   "metadata": {},
   "outputs": [],
   "source": [
    "df_test.drop(['uniqueid'],axis = 1,inplace = True)"
   ]
  },
  {
   "cell_type": "code",
   "execution_count": null,
   "id": "bebeba43",
   "metadata": {},
   "outputs": [],
   "source": [
    "from sklearn.preprocessing import StandardScaler\n",
    "scaler=StandardScaler()\n",
    "df_test_scaled=scaler.fit_transform(df_test)\n",
    "df_test_scaled=scaler.transform(df_test)"
   ]
  },
  {
   "cell_type": "code",
   "execution_count": null,
   "id": "ce58f738",
   "metadata": {},
   "outputs": [],
   "source": [
    "df_test_scaled"
   ]
  },
  {
   "cell_type": "code",
   "execution_count": null,
   "id": "c0d8fadd",
   "metadata": {},
   "outputs": [],
   "source": [
    "plt.subplots(figsize=(15, 5))\n",
    "plt.subplot(1, 2, 1)\n",
    "sns.boxplot(data=df_test)\n",
    "plt.title('X_train Before Scaling')\n",
    "plt.subplot(1, 2, 2)\n",
    "sns.boxplot(data=df_test_scaled)\n",
    "plt.title('X_train After Scaling')"
   ]
  },
  {
   "cell_type": "code",
   "execution_count": null,
   "id": "27b95d6c",
   "metadata": {},
   "outputs": [],
   "source": [
    "X_train_scaled.shape"
   ]
  },
  {
   "cell_type": "code",
   "execution_count": null,
   "id": "509f0b7d",
   "metadata": {},
   "outputs": [],
   "source": [
    "df_test_scaled.shape"
   ]
  },
  {
   "cell_type": "code",
   "execution_count": null,
   "id": "d2ef3e89",
   "metadata": {},
   "outputs": [],
   "source": [
    "predicted_class = xg_model.predict(df_test_scaled)"
   ]
  },
  {
   "cell_type": "code",
   "execution_count": null,
   "id": "4c95bab2",
   "metadata": {},
   "outputs": [],
   "source": [
    "print(predicted_class)"
   ]
  },
  {
   "cell_type": "code",
   "execution_count": null,
   "id": "032fe338",
   "metadata": {},
   "outputs": [],
   "source": [
    "df_test = pd.read_csv('./data/Test.csv')\n",
    "df_test.head()"
   ]
  },
  {
   "cell_type": "code",
   "execution_count": null,
   "id": "41ffb08b",
   "metadata": {},
   "outputs": [],
   "source": [
    "# Create submission DataFrame\n",
    "submission = pd.DataFrame({\"uniqueid\": df_test[\"uniqueid\"] + \" x \" + df_test[\"country\"],\n",
    "                           \"bank_account\": predicted_class})\n",
    "\n",
    "submission.to_csv('sample_submission.csv', index = False)"
   ]
  }
 ],
 "metadata": {
  "kernelspec": {
   "display_name": "Python 3 (ipykernel)",
   "language": "python",
   "name": "python3"
  },
  "language_info": {
   "codemirror_mode": {
    "name": "ipython",
    "version": 3
   },
   "file_extension": ".py",
   "mimetype": "text/x-python",
   "name": "python",
   "nbconvert_exporter": "python",
   "pygments_lexer": "ipython3",
   "version": "3.11.4"
  }
 },
 "nbformat": 4,
 "nbformat_minor": 5
}
